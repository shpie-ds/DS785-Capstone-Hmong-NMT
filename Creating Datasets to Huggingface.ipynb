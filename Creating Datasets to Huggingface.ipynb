{
 "cells": [
  {
   "cell_type": "markdown",
   "id": "c6f261",
   "metadata": {
    "collapsed": false
   },
   "source": [
    "Setup\n"
   ]
  },
  {
   "cell_type": "code",
   "execution_count": 151,
   "id": "81908b",
   "metadata": {
    "collapsed": false
   },
   "outputs": [
    {
     "name": "stdout",
     "output_type": "stream",
     "text": [
      "Defaulting to user installation because normal site-packages is not writeable\r\n"
     ]
    },
    {
     "name": "stdout",
     "output_type": "stream",
     "text": [
      "Requirement already satisfied: scikit-learn==1.5.0 in /home/user/.local/lib/python3.12/site-packages (1.5.0)\r\n",
      "Requirement already satisfied: numpy>=1.19.5 in /ext/venvs/cocalc/lib/python3.12/site-packages (from scikit-learn==1.5.0) (2.2.6)\r\n",
      "Requirement already satisfied: scipy>=1.6.0 in /ext/venvs/cocalc/lib/python3.12/site-packages (from scikit-learn==1.5.0) (1.15.3)\r\n",
      "Requirement already satisfied: joblib>=1.2.0 in /ext/venvs/cocalc/lib/python3.12/site-packages (from scikit-learn==1.5.0) (1.5.0)\r\n",
      "Requirement already satisfied: threadpoolctl>=3.1.0 in /ext/venvs/cocalc/lib/python3.12/site-packages (from scikit-learn==1.5.0) (3.6.0)\r\n"
     ]
    },
    {
     "name": "stdout",
     "output_type": "stream",
     "text": [
      "Defaulting to user installation because normal site-packages is not writeable\r\n"
     ]
    },
    {
     "name": "stdout",
     "output_type": "stream",
     "text": [
      "Requirement already satisfied: huggingface_hub in /home/user/.local/lib/python3.12/site-packages (0.33.2)\r\n",
      "Requirement already satisfied: filelock in /ext/venvs/cocalc/lib/python3.12/site-packages (from huggingface_hub) (3.18.0)\r\n",
      "Requirement already satisfied: fsspec>=2023.5.0 in /ext/venvs/cocalc/lib/python3.12/site-packages (from huggingface_hub) (2025.3.2)\r\n",
      "Requirement already satisfied: packaging>=20.9 in /ext/venvs/cocalc/lib/python3.12/site-packages (from huggingface_hub) (24.2)\r\n",
      "Requirement already satisfied: pyyaml>=5.1 in /ext/venvs/cocalc/lib/python3.12/site-packages (from huggingface_hub) (6.0.2)\r\n",
      "Requirement already satisfied: requests in /ext/venvs/cocalc/lib/python3.12/site-packages (from huggingface_hub) (2.32.3)\r\n",
      "Requirement already satisfied: tqdm>=4.42.1 in /ext/venvs/cocalc/lib/python3.12/site-packages (from huggingface_hub) (4.67.1)\r\n",
      "Requirement already satisfied: typing-extensions>=3.7.4.3 in /ext/venvs/cocalc/lib/python3.12/site-packages (from huggingface_hub) (4.13.2)\r\n",
      "Requirement already satisfied: hf-xet<2.0.0,>=1.1.2 in /home/user/.local/lib/python3.12/site-packages (from huggingface_hub) (1.1.5)\r\n",
      "Requirement already satisfied: charset_normalizer<4,>=2 in /ext/venvs/cocalc/lib/python3.12/site-packages (from requests->huggingface_hub) (3.4.2)\r\n",
      "Requirement already satisfied: idna<4,>=2.5 in /ext/venvs/cocalc/lib/python3.12/site-packages (from requests->huggingface_hub) (3.10)\r\n",
      "Requirement already satisfied: urllib3<3,>=1.21.1 in /ext/venvs/cocalc/lib/python3.12/site-packages (from requests->huggingface_hub) (2.4.0)\r\n",
      "Requirement already satisfied: certifi>=2017.4.17 in /ext/venvs/cocalc/lib/python3.12/site-packages (from requests->huggingface_hub) (2025.4.26)\r\n"
     ]
    }
   ],
   "source": [
    "!pip install \"scikit-learn==1.5.0\""
   ]
  },
  {
   "cell_type": "code",
   "execution_count": 3,
   "id": "ecd51f",
   "metadata": {
    "collapsed": false
   },
   "outputs": [
   ],
   "source": [
    "import numpy as np\n",
    "import pandas as pd\n",
    "from pathlib import Path\n",
    "import os\n",
    "import sys\n",
    "from sklearn.model_selection import train_test_split\n",
    "\n",
    "models_path = r\"../Models\"\n",
    "code_path = r\"../Code\"\n",
    "data_path = r\"../Dataset\""
   ]
  },
  {
   "cell_type": "markdown",
   "id": "df7a00",
   "metadata": {
    "collapsed": false
   },
   "source": [
    "Loading and creating train/test .csv's\n"
   ]
  },
  {
   "cell_type": "code",
   "execution_count": 4,
   "id": "b8d3c1",
   "metadata": {
    "collapsed": false
   },
   "outputs": [
   ],
   "source": [
    "dataset = pd.read_csv(os.path.join(data_path,r'Capstone Data.csv'))"
   ]
  },
  {
   "cell_type": "code",
   "execution_count": 5,
   "id": "80b9e6",
   "metadata": {
    "collapsed": false
   },
   "outputs": [
   ],
   "source": [
    "train, test = train_test_split(dataset, test_size = 0.2, random_state = 7725)"
   ]
  },
  {
   "cell_type": "code",
   "execution_count": 6,
   "id": "041e7a",
   "metadata": {
    "collapsed": false
   },
   "outputs": [
   ],
   "source": [
    "train.to_csv(os.path.join(data_path,r'train.csv'), index=False)\n",
    "test.to_csv(os.path.join(data_path,r'test.csv'), index=False)"
   ]
  },
  {
   "cell_type": "markdown",
   "id": "aa6533",
   "metadata": {
    "collapsed": false
   },
   "source": [
    "From here on, we manually upload the datasets to HuggingFace.\n",
    "\n"
   ]
  }
 ],
 "metadata": {
  "kernelspec": {
   "argv": [
    "/ext/venvs/cocalc/bin/python3",
    "-Xfrozen_modules=off",
    "-m",
    "ipykernel_launcher",
    "--HistoryManager.enabled=False",
    "--matplotlib=inline",
    "-c",
    "%config InlineBackend.figure_formats = set(['retina'])\nimport matplotlib; matplotlib.rcParams['figure.figsize'] = (12, 7)",
    "-f",
    "{connection_file}"
   ],
   "display_name": "Python 3 (CoCalc)",
   "env": {
   },
   "language": "python",
   "metadata": {
    "cocalc": {
     "description": "Python 3 system-wide environment. Use 'CoCalc' for the most complete Python environment.",
     "priority": 100,
     "url": "https://www.python.org/"
    },
    "debugger": true
   },
   "name": "python3",
   "resource_dir": "/ext/jupyter/kernels/python3"
  }
 },
 "nbformat": 4,
 "nbformat_minor": 4
}